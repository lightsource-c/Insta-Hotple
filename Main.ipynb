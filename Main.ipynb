{
 "cells": [
  {
   "cell_type": "markdown",
   "metadata": {},
   "source": [
    "# Hotpl-Insta\n",
    "---"
   ]
  },
  {
   "cell_type": "markdown",
   "metadata": {},
   "source": [
    "## Phase1. Crawling from instagram by [instagram-crawler](https://github.com/huaying/instagram-crawler) ([ref](https://eehoeskrap.tistory.com/335))\n",
    "\n",
    "1. Running crawler to gather informations about post(url/description/hashtags ...)\n",
    "    \n",
    "> `python crawler.py hashtag -t 경성광장 -o ./output.json -n 2000 --fetch_details`\n",
    "    \n",
    "2. Downloading Images from gathered information(output.json)\n",
    "\n",
    "> `python download.py`\n",
    "\n"
   ]
  },
  {
   "cell_type": "markdown",
   "metadata": {},
   "source": [
    "## Phase2. Pre-processing output.json\n",
    "1. Reading output.json"
   ]
  },
  {
   "cell_type": "code",
   "execution_count": 5,
   "metadata": {},
   "outputs": [],
   "source": [
    "import json\n",
    "import numpy as np\n",
    "import pandas as pd"
   ]
  },
  {
   "cell_type": "code",
   "execution_count": 6,
   "metadata": {},
   "outputs": [],
   "source": [
    "# using pandas\n",
    "df = pd.read_json('output.json', encoding=\"utf-8\")"
   ]
  },
  {
   "cell_type": "code",
   "execution_count": 28,
   "metadata": {
    "scrolled": true
   },
   "outputs": [
    {
     "data": {
      "text/plain": [
       "0"
      ]
     },
     "execution_count": 28,
     "metadata": {},
     "output_type": "execute_result"
    }
   ],
   "source": [
    "# handling NaN, not a number)\n",
    "df[\"description\"] = df[\"description\"].fillna(\"-\")\n",
    "df[\"description\"].isna().sum()"
   ]
  },
  {
   "cell_type": "markdown",
   "metadata": {},
   "source": [
    "2. Appending new column by abstracted hastags"
   ]
  },
  {
   "cell_type": "code",
   "execution_count": 29,
   "metadata": {},
   "outputs": [],
   "source": [
    "# for abstracting hashtags, we will use regualr expression (re)\n",
    "import re\n",
    "hashtag_regex = \"#([0-9a-zA-Z가-힣]*)\"\n",
    "p = re.compile(hashtag_regex)"
   ]
  },
  {
   "cell_type": "code",
   "execution_count": 43,
   "metadata": {
    "scrolled": false
   },
   "outputs": [],
   "source": [
    "# appending the captured group as list\n",
    "df[\"hashtags\"] = df[\"description\"].apply(p.findall)"
   ]
  },
  {
   "cell_type": "code",
   "execution_count": 44,
   "metadata": {
    "scrolled": true
   },
   "outputs": [
    {
     "data": {
      "text/html": [
       "<div>\n",
       "<style scoped>\n",
       "    .dataframe tbody tr th:only-of-type {\n",
       "        vertical-align: middle;\n",
       "    }\n",
       "\n",
       "    .dataframe tbody tr th {\n",
       "        vertical-align: top;\n",
       "    }\n",
       "\n",
       "    .dataframe thead th {\n",
       "        text-align: right;\n",
       "    }\n",
       "</style>\n",
       "<table border=\"1\" class=\"dataframe\">\n",
       "  <thead>\n",
       "    <tr style=\"text-align: right;\">\n",
       "      <th></th>\n",
       "      <th>key</th>\n",
       "      <th>caption</th>\n",
       "      <th>img_url</th>\n",
       "      <th>username</th>\n",
       "      <th>location</th>\n",
       "      <th>description</th>\n",
       "      <th>hashtags</th>\n",
       "    </tr>\n",
       "  </thead>\n",
       "  <tbody>\n",
       "    <tr>\n",
       "      <td>0</td>\n",
       "      <td>https://www.instagram.com/p/B4E6Xt7FnjA/</td>\n",
       "      <td>Image may contain: people sitting, table, drin...</td>\n",
       "      <td>https://scontent-icn1-1.cdninstagram.com/vp/3a...</td>\n",
       "      <td>iridescent_boy</td>\n",
       "      <td>송리단길 SongniDan-gil</td>\n",
       "      <td>#경성광장 ☕️</td>\n",
       "      <td>[경성광장]</td>\n",
       "    </tr>\n",
       "    <tr>\n",
       "      <td>1</td>\n",
       "      <td>https://www.instagram.com/p/Bp_qaxslkDs/</td>\n",
       "      <td>Image may contain: one or more people</td>\n",
       "      <td>https://scontent-icn1-1.cdninstagram.com/vp/8d...</td>\n",
       "      <td>qho_____</td>\n",
       "      <td>송리단길</td>\n",
       "      <td>옥돌이 안녕! 코기 엉덩이를 만지면 기분이 좋아집니다. #경성광장 #송리단길카페</td>\n",
       "      <td>[경성광장, 송리단길카페]</td>\n",
       "    </tr>\n",
       "    <tr>\n",
       "      <td>2</td>\n",
       "      <td>https://www.instagram.com/p/BrCJKcClElu/</td>\n",
       "      <td>Image may contain: 1 person, sitting and indoor</td>\n",
       "      <td>https://scontent-icn1-1.cdninstagram.com/vp/37...</td>\n",
       "      <td>eyey_p</td>\n",
       "      <td>송리단길</td>\n",
       "      <td>.\\n나으 여니버니랑.\\n다음엔 만복래까지 꼭 가꼬야.</td>\n",
       "      <td>[]</td>\n",
       "    </tr>\n",
       "    <tr>\n",
       "      <td>3</td>\n",
       "      <td>https://www.instagram.com/p/B1aQ3rmFeAt/</td>\n",
       "      <td>Image may contain: coffee cup, drink, table an...</td>\n",
       "      <td>https://scontent-icn1-1.cdninstagram.com/vp/59...</td>\n",
       "      <td>lucky_yoon_</td>\n",
       "      <td>NaN</td>\n",
       "      <td></td>\n",
       "      <td>[]</td>\n",
       "    </tr>\n",
       "    <tr>\n",
       "      <td>4</td>\n",
       "      <td>https://www.instagram.com/p/B34oDp_nq7K/</td>\n",
       "      <td>Image may contain: one or more people, people ...</td>\n",
       "      <td>https://scontent-icn1-1.cdninstagram.com/vp/24...</td>\n",
       "      <td>seo__na_1</td>\n",
       "      <td>NaN</td>\n",
       "      <td>얼마만에 평일데이트인지❤️\\n#송리단길#경성광장#석촌호수카페\\n사진잘찍어주는 예쁜언...</td>\n",
       "      <td>[송리단길, 경성광장, 석촌호수카페]</td>\n",
       "    </tr>\n",
       "    <tr>\n",
       "      <td>...</td>\n",
       "      <td>...</td>\n",
       "      <td>...</td>\n",
       "      <td>...</td>\n",
       "      <td>...</td>\n",
       "      <td>...</td>\n",
       "      <td>...</td>\n",
       "      <td>...</td>\n",
       "    </tr>\n",
       "    <tr>\n",
       "      <td>2017</td>\n",
       "      <td>https://www.instagram.com/p/BlaoHYTneHd/</td>\n",
       "      <td>Image may contain: drink and indoor</td>\n",
       "      <td>https://scontent-icn1-1.cdninstagram.com/vp/67...</td>\n",
       "      <td>b_______art</td>\n",
       "      <td>NaN</td>\n",
       "      <td>너무 좋....🖤\\n#최애카페등극#카페만2차#찻잔클라쓰#경성광장</td>\n",
       "      <td>[최애카페등극, 카페만2차, 찻잔클라쓰, 경성광장]</td>\n",
       "    </tr>\n",
       "    <tr>\n",
       "      <td>2018</td>\n",
       "      <td>https://www.instagram.com/p/BlYBdxoA4zu/</td>\n",
       "      <td>Image may contain: drink</td>\n",
       "      <td>https://scontent-icn1-1.cdninstagram.com/vp/ed...</td>\n",
       "      <td>bestinvestor</td>\n",
       "      <td>Seoul, South Korea</td>\n",
       "      <td>#B\\n.\\n어제 오픈한 카페 경성광장.\\n커피 맛있고, 음악 좋고.\\n사장님이 서...</td>\n",
       "      <td>[B, 33개월, 청양띠, 딸, 슌블리, 여기서이러시면안됩니다, 슌팸, 열대야, 밤...</td>\n",
       "    </tr>\n",
       "    <tr>\n",
       "      <td>2019</td>\n",
       "      <td>https://www.instagram.com/p/BlX313-Bpu8/</td>\n",
       "      <td>Image may contain: people sitting, table and i...</td>\n",
       "      <td>https://scontent-icn1-1.cdninstagram.com/vp/69...</td>\n",
       "      <td>syunvely_mom</td>\n",
       "      <td>NaN</td>\n",
       "      <td>신랑 백숙해줬더니\\n커피사준다해서 저녁먹고 동네신상카페\\n핸드드립커피만 취급하는듯....</td>\n",
       "      <td>[예쁜커피잔, 겟썸있던골목, 송리단길, 송파카페, 신상카페, 경성광장, 핸드드립, ...</td>\n",
       "    </tr>\n",
       "    <tr>\n",
       "      <td>2020</td>\n",
       "      <td>https://www.instagram.com/p/BlXfvk-gnMc/</td>\n",
       "      <td>Image may contain: drink, coffee cup and indoor</td>\n",
       "      <td>https://scontent-icn1-1.cdninstagram.com/vp/1f...</td>\n",
       "      <td>ayama_0</td>\n",
       "      <td>NaN</td>\n",
       "      <td>지방시 찾잔 하나에 감동 감탄.. 😍\\n#나도여자였나봐 .\\n.\\n.\\n.\\n#경성...</td>\n",
       "      <td>[나도여자였나봐, 경성광장, 루이보스티, 가오픈중, 개화기컨셉, 인가요, 그런느낌적...</td>\n",
       "    </tr>\n",
       "    <tr>\n",
       "      <td>2021</td>\n",
       "      <td>https://www.instagram.com/p/BlXOTozg-TI/</td>\n",
       "      <td>Image may contain: people sitting, drink, tabl...</td>\n",
       "      <td>https://scontent-icn1-1.cdninstagram.com/vp/7a...</td>\n",
       "      <td>chany5454</td>\n",
       "      <td>NaN</td>\n",
       "      <td>#송리단길#경성광장 분위기 좋은카페.</td>\n",
       "      <td>[송리단길, 경성광장]</td>\n",
       "    </tr>\n",
       "  </tbody>\n",
       "</table>\n",
       "<p>2022 rows × 7 columns</p>\n",
       "</div>"
      ],
      "text/plain": [
       "                                           key  \\\n",
       "0     https://www.instagram.com/p/B4E6Xt7FnjA/   \n",
       "1     https://www.instagram.com/p/Bp_qaxslkDs/   \n",
       "2     https://www.instagram.com/p/BrCJKcClElu/   \n",
       "3     https://www.instagram.com/p/B1aQ3rmFeAt/   \n",
       "4     https://www.instagram.com/p/B34oDp_nq7K/   \n",
       "...                                        ...   \n",
       "2017  https://www.instagram.com/p/BlaoHYTneHd/   \n",
       "2018  https://www.instagram.com/p/BlYBdxoA4zu/   \n",
       "2019  https://www.instagram.com/p/BlX313-Bpu8/   \n",
       "2020  https://www.instagram.com/p/BlXfvk-gnMc/   \n",
       "2021  https://www.instagram.com/p/BlXOTozg-TI/   \n",
       "\n",
       "                                                caption  \\\n",
       "0     Image may contain: people sitting, table, drin...   \n",
       "1                 Image may contain: one or more people   \n",
       "2       Image may contain: 1 person, sitting and indoor   \n",
       "3     Image may contain: coffee cup, drink, table an...   \n",
       "4     Image may contain: one or more people, people ...   \n",
       "...                                                 ...   \n",
       "2017                Image may contain: drink and indoor   \n",
       "2018                           Image may contain: drink   \n",
       "2019  Image may contain: people sitting, table and i...   \n",
       "2020    Image may contain: drink, coffee cup and indoor   \n",
       "2021  Image may contain: people sitting, drink, tabl...   \n",
       "\n",
       "                                                img_url        username  \\\n",
       "0     https://scontent-icn1-1.cdninstagram.com/vp/3a...  iridescent_boy   \n",
       "1     https://scontent-icn1-1.cdninstagram.com/vp/8d...        qho_____   \n",
       "2     https://scontent-icn1-1.cdninstagram.com/vp/37...          eyey_p   \n",
       "3     https://scontent-icn1-1.cdninstagram.com/vp/59...     lucky_yoon_   \n",
       "4     https://scontent-icn1-1.cdninstagram.com/vp/24...       seo__na_1   \n",
       "...                                                 ...             ...   \n",
       "2017  https://scontent-icn1-1.cdninstagram.com/vp/67...     b_______art   \n",
       "2018  https://scontent-icn1-1.cdninstagram.com/vp/ed...    bestinvestor   \n",
       "2019  https://scontent-icn1-1.cdninstagram.com/vp/69...    syunvely_mom   \n",
       "2020  https://scontent-icn1-1.cdninstagram.com/vp/1f...         ayama_0   \n",
       "2021  https://scontent-icn1-1.cdninstagram.com/vp/7a...       chany5454   \n",
       "\n",
       "                location                                        description  \\\n",
       "0     송리단길 SongniDan-gil                                           #경성광장 ☕️   \n",
       "1                   송리단길       옥돌이 안녕! 코기 엉덩이를 만지면 기분이 좋아집니다. #경성광장 #송리단길카페   \n",
       "2                   송리단길                     .\\n나으 여니버니랑.\\n다음엔 만복래까지 꼭 가꼬야.   \n",
       "3                    NaN                                                      \n",
       "4                    NaN  얼마만에 평일데이트인지❤️\\n#송리단길#경성광장#석촌호수카페\\n사진잘찍어주는 예쁜언...   \n",
       "...                  ...                                                ...   \n",
       "2017                 NaN                너무 좋....🖤\\n#최애카페등극#카페만2차#찻잔클라쓰#경성광장   \n",
       "2018  Seoul, South Korea  #B\\n.\\n어제 오픈한 카페 경성광장.\\n커피 맛있고, 음악 좋고.\\n사장님이 서...   \n",
       "2019                 NaN  신랑 백숙해줬더니\\n커피사준다해서 저녁먹고 동네신상카페\\n핸드드립커피만 취급하는듯....   \n",
       "2020                 NaN  지방시 찾잔 하나에 감동 감탄.. 😍\\n#나도여자였나봐 .\\n.\\n.\\n.\\n#경성...   \n",
       "2021                 NaN                               #송리단길#경성광장 분위기 좋은카페.   \n",
       "\n",
       "                                               hashtags  \n",
       "0                                                [경성광장]  \n",
       "1                                        [경성광장, 송리단길카페]  \n",
       "2                                                    []  \n",
       "3                                                    []  \n",
       "4                                  [송리단길, 경성광장, 석촌호수카페]  \n",
       "...                                                 ...  \n",
       "2017                       [최애카페등극, 카페만2차, 찻잔클라쓰, 경성광장]  \n",
       "2018  [B, 33개월, 청양띠, 딸, 슌블리, 여기서이러시면안됩니다, 슌팸, 열대야, 밤...  \n",
       "2019  [예쁜커피잔, 겟썸있던골목, 송리단길, 송파카페, 신상카페, 경성광장, 핸드드립, ...  \n",
       "2020  [나도여자였나봐, 경성광장, 루이보스티, 가오픈중, 개화기컨셉, 인가요, 그런느낌적...  \n",
       "2021                                       [송리단길, 경성광장]  \n",
       "\n",
       "[2022 rows x 7 columns]"
      ]
     },
     "execution_count": 44,
     "metadata": {},
     "output_type": "execute_result"
    }
   ],
   "source": [
    "df"
   ]
  },
  {
   "cell_type": "markdown",
   "metadata": {},
   "source": [
    "3. Sending images to [Google Cloud Vision API](https://cloud.google.com/vision/docs/libraries?hl=ko#client-libraries-install-python)\n",
    "\n",
    "\n",
    "    1. Activating API Key - do it on your own environment variables setting\n",
    "    \n",
    "> `GOOGLE_APPLICATION_CREDENTIALS=e:\\PythonProjects\\GoogleAPIKey\\My Project 23729-b0a0947591f4.json`\n",
    "\n",
    "    2. Install google cloud vision API\n",
    "\n",
    "> `> pip install --upgrade google-cloud-vision`\n"
   ]
  },
  {
   "cell_type": "code",
   "execution_count": 17,
   "metadata": {
    "scrolled": false
   },
   "outputs": [
    {
     "name": "stdout",
     "output_type": "stream",
     "text": [
      "Labels:\n",
      "Cup\n",
      "Saucer\n",
      "Coffee cup\n",
      "Teacup\n",
      "Cup\n",
      "Porcelain\n",
      "Tableware\n",
      "Drinkware\n",
      "Serveware\n",
      "Dishware\n"
     ]
    }
   ],
   "source": [
    "import io\n",
    "import os\n",
    "\n",
    "# Imports the Google Cloud client library\n",
    "from google.cloud import vision\n",
    "from google.cloud.vision import types\n",
    "\n",
    "# Instantiates a client\n",
    "client = vision.ImageAnnotatorClient()\n",
    "\n",
    "# The name of the image file to annotate\n",
    "file_name = \"./outputpic/000006.jpg\"\n",
    "\n",
    "# Loads the image into memory\n",
    "with io.open(file_name, 'rb') as image_file:\n",
    "    content = image_file.read()\n",
    "\n",
    "image = types.Image(content=content)\n",
    "\n",
    "# Performs label detection on the image file\n",
    "response = client.label_detection(image=image)\n",
    "labels = response.label_annotations\n",
    "\n",
    "print('Labels:')\n",
    "for label in labels:\n",
    "    print(label.description)"
   ]
  },
  {
   "cell_type": "code",
   "execution_count": null,
   "metadata": {},
   "outputs": [],
   "source": [
    "python crawler.py hashtag -t 더티트렁크 -o ./output.json -n 2000 --fetch_details"
   ]
  }
 ],
 "metadata": {
  "kernelspec": {
   "display_name": "Python 3",
   "language": "python",
   "name": "python3"
  },
  "language_info": {
   "codemirror_mode": {
    "name": "ipython",
    "version": 3
   },
   "file_extension": ".py",
   "mimetype": "text/x-python",
   "name": "python",
   "nbconvert_exporter": "python",
   "pygments_lexer": "ipython3",
   "version": "3.7.4"
  }
 },
 "nbformat": 4,
 "nbformat_minor": 2
}
